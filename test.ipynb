{
 "cells": [
  {
   "cell_type": "code",
   "execution_count": 1,
   "metadata": {},
   "outputs": [],
   "source": [
    "# Import necessary packages.\n",
    "import numpy as np\n",
    "import pandas as pd\n",
    "import torch\n",
    "import os\n",
    "import torch.nn as nn\n",
    "import torchvision.transforms as transforms\n",
    "from PIL import Image\n",
    "# \"ConcatDataset\" and \"Subset\" are possibly useful when doing semi-supervised learning.\n",
    "from torch.utils.data import ConcatDataset, DataLoader, Subset, Dataset\n",
    "from torchvision.datasets import DatasetFolder, VisionDataset\n",
    "\n",
    "# This is for the progress bar.\n",
    "from tqdm.auto import tqdm\n",
    "import random\n",
    "import torch.nn.functional as F\n",
    "from dataset import SpineDataset_Test\n",
    "import albumentations as A\n",
    "from albumentations.pytorch import ToTensorV2\n",
    "import matplotlib.pyplot as plt\n",
    "DEVICE = \"cuda\" if torch.cuda.is_available() else \"cpu\"\n",
    "#from model import unet_model , \n",
    "from models.U2net import U2NET\n",
    "from models.Unet import unet_model\n",
    "\n",
    "t1 = A.Compose([\n",
    "    A.augmentations.transforms.CLAHE(),\n",
    "    A.Resize(1024,512),\n",
    "    ToTensorV2()\n",
    "])\n",
    "data = []"
   ]
  },
  {
   "cell_type": "code",
   "execution_count": 2,
   "metadata": {},
   "outputs": [],
   "source": [
    "with open(\"test_1_30_AP.txt\")as f:\n",
    "    d  = f.read().splitlines()\n",
    "for i in d:\n",
    "    tmp = \"./testing/\" + i\n",
    "    data.append(tmp)"
   ]
  },
  {
   "cell_type": "code",
   "execution_count": 3,
   "metadata": {},
   "outputs": [],
   "source": [
    "test_dataset = SpineDataset_Test(data,t1)"
   ]
  },
  {
   "cell_type": "code",
   "execution_count": 4,
   "metadata": {},
   "outputs": [],
   "source": [
    "test_batch = torch.utils.data.DataLoader(test_dataset, batch_size=1, shuffle=False, pin_memory=True)\n"
   ]
  },
  {
   "cell_type": "code",
   "execution_count": 5,
   "metadata": {},
   "outputs": [
    {
     "data": {
      "text/plain": [
       "<All keys matched successfully>"
      ]
     },
     "execution_count": 5,
     "metadata": {},
     "output_type": "execute_result"
    }
   ],
   "source": [
    "model = unet_model().to(DEVICE)\n",
    "model.load_state_dict(torch.load(f\"checkpoint/unet/0.6607674749561321_best_resnetlarge.ckpt\"))\n",
    "# model = U2NET().to(DEVICE)\n",
    "# model.load_state_dict(torch.load(f\"checkpoint/axial/0.8863151219611287_best_resnetlarge.ckpt\"))"
   ]
  },
  {
   "cell_type": "code",
   "execution_count": 6,
   "metadata": {},
   "outputs": [
    {
     "data": {
      "text/plain": [
       "unet_model(\n",
       "  (pool): MaxPool2d(kernel_size=(2, 2), stride=(2, 2), padding=0, dilation=1, ceil_mode=False)\n",
       "  (conv1): encoding_block(\n",
       "    (conv): Sequential(\n",
       "      (0): Conv2d(1, 64, kernel_size=(3, 3), stride=(1, 1), padding=(1, 1), bias=False)\n",
       "      (1): BatchNorm2d(64, eps=1e-05, momentum=0.1, affine=True, track_running_stats=True)\n",
       "      (2): ReLU(inplace=True)\n",
       "      (3): Conv2d(64, 64, kernel_size=(3, 3), stride=(1, 1), padding=(1, 1), bias=False)\n",
       "      (4): BatchNorm2d(64, eps=1e-05, momentum=0.1, affine=True, track_running_stats=True)\n",
       "      (5): ReLU(inplace=True)\n",
       "    )\n",
       "  )\n",
       "  (conv2): encoding_block(\n",
       "    (conv): Sequential(\n",
       "      (0): Conv2d(64, 128, kernel_size=(3, 3), stride=(1, 1), padding=(1, 1), bias=False)\n",
       "      (1): BatchNorm2d(128, eps=1e-05, momentum=0.1, affine=True, track_running_stats=True)\n",
       "      (2): ReLU(inplace=True)\n",
       "      (3): Conv2d(128, 128, kernel_size=(3, 3), stride=(1, 1), padding=(1, 1), bias=False)\n",
       "      (4): BatchNorm2d(128, eps=1e-05, momentum=0.1, affine=True, track_running_stats=True)\n",
       "      (5): ReLU(inplace=True)\n",
       "    )\n",
       "  )\n",
       "  (conv3): encoding_block(\n",
       "    (conv): Sequential(\n",
       "      (0): Conv2d(128, 256, kernel_size=(3, 3), stride=(1, 1), padding=(1, 1), bias=False)\n",
       "      (1): BatchNorm2d(256, eps=1e-05, momentum=0.1, affine=True, track_running_stats=True)\n",
       "      (2): ReLU(inplace=True)\n",
       "      (3): Conv2d(256, 256, kernel_size=(3, 3), stride=(1, 1), padding=(1, 1), bias=False)\n",
       "      (4): BatchNorm2d(256, eps=1e-05, momentum=0.1, affine=True, track_running_stats=True)\n",
       "      (5): ReLU(inplace=True)\n",
       "    )\n",
       "  )\n",
       "  (conv4): encoding_block(\n",
       "    (conv): Sequential(\n",
       "      (0): Conv2d(256, 512, kernel_size=(3, 3), stride=(1, 1), padding=(1, 1), bias=False)\n",
       "      (1): BatchNorm2d(512, eps=1e-05, momentum=0.1, affine=True, track_running_stats=True)\n",
       "      (2): ReLU(inplace=True)\n",
       "      (3): Conv2d(512, 512, kernel_size=(3, 3), stride=(1, 1), padding=(1, 1), bias=False)\n",
       "      (4): BatchNorm2d(512, eps=1e-05, momentum=0.1, affine=True, track_running_stats=True)\n",
       "      (5): ReLU(inplace=True)\n",
       "    )\n",
       "  )\n",
       "  (conv5): encoding_block(\n",
       "    (conv): Sequential(\n",
       "      (0): Conv2d(1024, 512, kernel_size=(3, 3), stride=(1, 1), padding=(1, 1), bias=False)\n",
       "      (1): BatchNorm2d(512, eps=1e-05, momentum=0.1, affine=True, track_running_stats=True)\n",
       "      (2): ReLU(inplace=True)\n",
       "      (3): Conv2d(512, 512, kernel_size=(3, 3), stride=(1, 1), padding=(1, 1), bias=False)\n",
       "      (4): BatchNorm2d(512, eps=1e-05, momentum=0.1, affine=True, track_running_stats=True)\n",
       "      (5): ReLU(inplace=True)\n",
       "    )\n",
       "  )\n",
       "  (conv6): encoding_block(\n",
       "    (conv): Sequential(\n",
       "      (0): Conv2d(512, 256, kernel_size=(3, 3), stride=(1, 1), padding=(1, 1), bias=False)\n",
       "      (1): BatchNorm2d(256, eps=1e-05, momentum=0.1, affine=True, track_running_stats=True)\n",
       "      (2): ReLU(inplace=True)\n",
       "      (3): Conv2d(256, 256, kernel_size=(3, 3), stride=(1, 1), padding=(1, 1), bias=False)\n",
       "      (4): BatchNorm2d(256, eps=1e-05, momentum=0.1, affine=True, track_running_stats=True)\n",
       "      (5): ReLU(inplace=True)\n",
       "    )\n",
       "  )\n",
       "  (conv7): encoding_block(\n",
       "    (conv): Sequential(\n",
       "      (0): Conv2d(256, 128, kernel_size=(3, 3), stride=(1, 1), padding=(1, 1), bias=False)\n",
       "      (1): BatchNorm2d(128, eps=1e-05, momentum=0.1, affine=True, track_running_stats=True)\n",
       "      (2): ReLU(inplace=True)\n",
       "      (3): Conv2d(128, 128, kernel_size=(3, 3), stride=(1, 1), padding=(1, 1), bias=False)\n",
       "      (4): BatchNorm2d(128, eps=1e-05, momentum=0.1, affine=True, track_running_stats=True)\n",
       "      (5): ReLU(inplace=True)\n",
       "    )\n",
       "  )\n",
       "  (conv8): encoding_block(\n",
       "    (conv): Sequential(\n",
       "      (0): Conv2d(128, 64, kernel_size=(3, 3), stride=(1, 1), padding=(1, 1), bias=False)\n",
       "      (1): BatchNorm2d(64, eps=1e-05, momentum=0.1, affine=True, track_running_stats=True)\n",
       "      (2): ReLU(inplace=True)\n",
       "      (3): Conv2d(64, 64, kernel_size=(3, 3), stride=(1, 1), padding=(1, 1), bias=False)\n",
       "      (4): BatchNorm2d(64, eps=1e-05, momentum=0.1, affine=True, track_running_stats=True)\n",
       "      (5): ReLU(inplace=True)\n",
       "    )\n",
       "  )\n",
       "  (tconv1): ConvTranspose2d(1024, 512, kernel_size=(2, 2), stride=(2, 2))\n",
       "  (tconv2): ConvTranspose2d(512, 256, kernel_size=(2, 2), stride=(2, 2))\n",
       "  (tconv3): ConvTranspose2d(256, 128, kernel_size=(2, 2), stride=(2, 2))\n",
       "  (tconv4): ConvTranspose2d(128, 64, kernel_size=(2, 2), stride=(2, 2))\n",
       "  (bottleneck): encoding_block(\n",
       "    (conv): Sequential(\n",
       "      (0): Conv2d(512, 1024, kernel_size=(3, 3), stride=(1, 1), padding=(1, 1), bias=False)\n",
       "      (1): BatchNorm2d(1024, eps=1e-05, momentum=0.1, affine=True, track_running_stats=True)\n",
       "      (2): ReLU(inplace=True)\n",
       "      (3): Conv2d(1024, 1024, kernel_size=(3, 3), stride=(1, 1), padding=(1, 1), bias=False)\n",
       "      (4): BatchNorm2d(1024, eps=1e-05, momentum=0.1, affine=True, track_running_stats=True)\n",
       "      (5): ReLU(inplace=True)\n",
       "    )\n",
       "  )\n",
       "  (final_layer): Conv2d(64, 9, kernel_size=(1, 1), stride=(1, 1))\n",
       ")"
      ]
     },
     "execution_count": 6,
     "metadata": {},
     "output_type": "execute_result"
    }
   ],
   "source": [
    "model.eval()"
   ]
  },
  {
   "cell_type": "code",
   "execution_count": 7,
   "metadata": {},
   "outputs": [],
   "source": [
    "import cv2"
   ]
  },
  {
   "cell_type": "code",
   "execution_count": 8,
   "metadata": {},
   "outputs": [],
   "source": [
    "# kettt = 0\n",
    "# visualize = np.zeros((3,1024,512))\n",
    "#     0:  [255, 255, 255],\n",
    "# cls_color = {\n",
    "#     1:  [0 , 0 , 255],\n",
    "#     2:  [0, 153, 0],\n",
    "#     3:  [57, 217, 249],\n",
    "#     4:  [255, 128, 0],\n",
    "#     5:  [204, 153, 255],\n",
    "#     6: [255, 255, 0],\n",
    "# }\n",
    "# with torch.no_grad():\n",
    "#     for x,path_name in test_batch:\n",
    "#         write_name = path_name[0].split(\"/\")[-1]\n",
    "#         print(write_name)\n",
    "#         if kettt==1:\n",
    "#             print(\"break\")\n",
    "#             break\n",
    "#         softmax = nn.Softmax(dim=1)\n",
    "#         x = x.float().to(DEVICE)\n",
    "#         preds = torch.argmax(softmax(model(x)),axis=1).to('cpu')\n",
    "#         uni_data = np.unique(preds)\n",
    "#         #if(len(uni_data)!=8):\n",
    "#         if (len(uni_data)==7 and 7 not in uni_data):\n",
    "#             print(path_name)\n",
    "#             #fig , ax =  plt.subplots(1,2 , figsize=(4, 8))\n",
    "\n",
    "#             img1 = np.transpose(np.array(x[0,:,:,:].to('cpu')),(1,2,0))\n",
    "#             preds1 = np.array(preds[0,:,:])\n",
    "            \n",
    "#             img1 = cv2.cvtColor(img1 , cv2.COLOR_GRAY2BGR)\n",
    "#             img1 = np.array(img1).transpose(2,0,1)\n",
    "#             #preds1 = ((preds1/np.max(preds1))*255).astype(np.uint8)\n",
    "#             for i in range(len(preds1)):\n",
    "#                 for j in range(len(preds1[0])):\n",
    "#                     if(preds1[i][j]==0):\n",
    "#                         continue\n",
    "#                     #print(preds1[i][j])\n",
    "#                     cmap = cls_color[preds1[i][j]]\n",
    "#                     for index in range(3):\n",
    "#                         img1[index][i][j] = cmap[index]\n",
    "#             img1 = img1.transpose(1,2,0)\n",
    "#             cv2.imwrite(f\"./result/pass/{write_name}\",img1)\n",
    "#             print(path_name)\n",
    "\n",
    "#             #ax[0].set_title('Image')\n",
    "#             #ax[1].set_title('Prediction')\n",
    "#             #ax[0].imshow(img1)\n",
    "#             #ax[1].imshow(preds1)\n",
    "#             print(uni_data)\n",
    "#             kettt+=1\n",
    "#             #plt.show()"
   ]
  },
  {
   "cell_type": "code",
   "execution_count": 9,
   "metadata": {},
   "outputs": [],
   "source": [
    "kettt = 0\n",
    "visualize = np.zeros((3,1024,512))\n",
    "cls_color = {\n",
    "    0:  [255, 255, 255],\n",
    "    1:  [0 , 0 , 255],\n",
    "    2:  [0, 153, 0],\n",
    "    3:  [57, 217, 249],\n",
    "    4:  [255, 128, 0],\n",
    "    5:  [204, 153, 255],\n",
    "    6: [255, 255, 0],\n",
    "}\n",
    "with torch.no_grad():\n",
    "    for x,path_name in test_batch:\n",
    "        write_name = path_name[0].split(\"/\")[-1]\n",
    "        softmax = nn.Softmax(dim=1)\n",
    "        x = x.float().to(DEVICE)\n",
    "        preds = torch.argmax(softmax(model(x)),axis=1).to('cpu')\n",
    "        uni_data = np.unique(preds)\n",
    "        img1 = np.transpose(np.array(x[0,:,:,:].to('cpu')),(1,2,0))\n",
    "        preds1 = np.array(preds[0,:,:])\n",
    "        \n",
    "        img1 = cv2.cvtColor(img1 , cv2.COLOR_GRAY2BGR)\n",
    "        img1 = np.array(img1).transpose(2,0,1)\n",
    "        for i in range(len(preds1)):\n",
    "            for j in range(len(preds1[0])):\n",
    "                if(preds1[i][j]==0):\n",
    "                    continue\n",
    "                #print(preds1[i][j])\n",
    "                cmap = cls_color[preds1[i][j]]\n",
    "                for index in range(3):\n",
    "                    img1[index][i][j] = cmap[index]\n",
    "        img1 = img1.transpose(1,2,0)\n",
    "        if (len(uni_data)==7):\n",
    "            cv2.imwrite(f\"./AP_result_1_30/pass/{write_name}\",img1)\n",
    "        else:\n",
    "            cv2.imwrite(f\"./AP_result_1_30/notp/{write_name}\",img1)"
   ]
  },
  {
   "cell_type": "code",
   "execution_count": 8,
   "metadata": {},
   "outputs": [],
   "source": [
    "# kettt = 0\n",
    "# visualize = np.zeros((3,1024,512))\n",
    "# cls_color = {\n",
    "#     0:  [255, 255, 255],\n",
    "#     1:  [0 , 0 , 255],\n",
    "#     2:  [0, 153, 0],\n",
    "#     3:  [57, 217, 249],\n",
    "#     4:  [255, 128, 0],\n",
    "#     5:  [204, 153, 255],\n",
    "#     6: [255, 255, 0],\n",
    "#     7: [255,0,255],\n",
    "#     8: [0,255,0]\n",
    "# }\n",
    "# with torch.no_grad():\n",
    "#     for x,path_name in test_batch:\n",
    "#         write_name = path_name[0].split(\"/\")[-1]\n",
    "#         softmax = nn.Softmax(dim=1)\n",
    "#         x = x.float().to(DEVICE)\n",
    "#         preds = torch.argmax(softmax(model(x)),axis=1).to('cpu')\n",
    "#         uni_data = np.unique(preds)\n",
    "#         img1 = np.transpose(np.array(x[0,:,:,:].to('cpu')),(1,2,0))\n",
    "#         preds1 = np.array(preds[0,:,:])\n",
    "        \n",
    "#         img1 = cv2.cvtColor(img1 , cv2.COLOR_GRAY2BGR)\n",
    "#         img1 = np.array(img1).transpose(2,0,1)\n",
    "#         for i in range(len(preds1)):\n",
    "#             for j in range(len(preds1[0])):\n",
    "#                 if(preds1[i][j]==0):\n",
    "#                     continue\n",
    "#                 #print(preds1[i][j])\n",
    "#                 cmap = cls_color[preds1[i][j]]\n",
    "#                 for index in range(3):\n",
    "#                     img1[index][i][j] = cmap[index]\n",
    "#         img1 = img1.transpose(1,2,0)\n",
    "#         if (len(uni_data)==9):\n",
    "#             cv2.imwrite(f\"./LA_result_1_9/pass/3-{write_name}\",img1)\n",
    "#         else:\n",
    "#             cv2.imwrite(f\"./LA_result_1_9/notp/3-{write_name}\",img1)"
   ]
  },
  {
   "cell_type": "code",
   "execution_count": 10,
   "metadata": {},
   "outputs": [
    {
     "data": {
      "text/plain": [
       "<matplotlib.image.AxesImage at 0x7f47d3238610>"
      ]
     },
     "execution_count": 10,
     "metadata": {},
     "output_type": "execute_result"
    },
    {
     "data": {
      "image/png": "[encoded data removed]",
      "text/plain": [
       "<Figure size 640x480 with 1 Axes>"
      ]
     },
     "metadata": {},
     "output_type": "display_data"
    }
   ],
   "source": [
    "a = visualize.transpose(1,2,0)\n",
    "plt.imshow(a)"
   ]
  },
  {
   "cell_type": "code",
   "execution_count": 11,
   "metadata": {},
   "outputs": [],
   "source": [
    "with open(\"test_data.txt\",'r') as f:\n",
    "    data = f.read().splitlines()"
   ]
  },
  {
   "cell_type": "code",
   "execution_count": 59,
   "metadata": {},
   "outputs": [
    {
     "data": {
      "text/plain": [
       "['./FO-258218491416838431_json',\n",
       " './FO-112139868677800148_json',\n",
       " './FO-256791920264072115_json',\n",
       " './FO-328335381031203413_json',\n",
       " './FO-359284993441545309_json',\n",
       " './FO-410298935991288946_json',\n",
       " './FO-466248626243795334_json',\n",
       " './FO-233184483539218267_json',\n",
       " './FO-133976320887897066_json',\n",
       " './FO-156825371612939435_json',\n",
       " './FO-67381337186147040_json',\n",
       " './FO-134373398370302530_json',\n",
       " './FO-143377828446722768_json',\n",
       " './FO-136713378132396782_json',\n",
       " './FO-313299493256870356_json',\n",
       " './FO-23478819242459063_json',\n",
       " './FO-444942760936986867_json']"
      ]
     },
     "execution_count": 59,
     "metadata": {},
     "output_type": "execute_result"
    }
   ],
   "source": [
    "data"
   ]
  },
  {
   "cell_type": "code",
   "execution_count": 22,
   "metadata": {},
   "outputs": [],
   "source": [
    "a = torch.randn(4, 4,5)"
   ]
  },
  {
   "cell_type": "code",
   "execution_count": 23,
   "metadata": {},
   "outputs": [
    {
     "data": {
      "text/plain": [
       "tensor([[[ 0.1775,  0.6411, -1.0254, -0.3542,  2.2775],\n",
       "         [ 2.1395, -0.0333, -0.7079, -0.0554, -0.1459],\n",
       "         [ 0.2076,  0.1099, -0.0083, -0.3885,  1.0232],\n",
       "         [-0.6194, -0.7919, -1.8684,  0.3775,  1.3191]],\n",
       "\n",
       "        [[ 0.5148,  0.5900, -0.0950,  0.0259,  1.5635],\n",
       "         [-0.3137, -0.6220,  0.0441, -1.6741, -1.5202],\n",
       "         [ 1.1708, -0.0928,  0.6796, -0.8270,  0.5435],\n",
       "         [ 0.4681, -2.1394, -0.2511, -0.5473,  0.9570]],\n",
       "\n",
       "        [[-0.3946, -0.1269,  0.6953,  2.2773, -0.3555],\n",
       "         [ 1.7181, -1.7014, -0.2699,  2.4515, -0.8044],\n",
       "         [ 0.0914, -0.2268,  0.2704, -1.1136, -2.6765],\n",
       "         [-0.1988,  1.7733,  0.1729, -0.5491, -1.5121]],\n",
       "\n",
       "        [[ 0.6188, -0.4705,  0.2686, -0.1335,  0.2923],\n",
       "         [-2.2499,  0.7664, -0.0121,  1.1574, -1.0570],\n",
       "         [-0.3084,  1.6010, -1.1174, -1.4205, -2.2181],\n",
       "         [-0.6761, -0.5214, -0.1795,  0.0117, -1.1420]]])"
      ]
     },
     "execution_count": 23,
     "metadata": {},
     "output_type": "execute_result"
    }
   ],
   "source": [
    "a"
   ]
  },
  {
   "cell_type": "code",
   "execution_count": 24,
   "metadata": {},
   "outputs": [],
   "source": [
    "a = a.view(4,-1)\n"
   ]
  },
  {
   "cell_type": "code",
   "execution_count": 25,
   "metadata": {},
   "outputs": [
    {
     "data": {
      "text/plain": [
       "tensor([[ 0.1775,  0.6411, -1.0254, -0.3542,  2.2775,  2.1395, -0.0333, -0.7079,\n",
       "         -0.0554, -0.1459,  0.2076,  0.1099, -0.0083, -0.3885,  1.0232, -0.6194,\n",
       "         -0.7919, -1.8684,  0.3775,  1.3191],\n",
       "        [ 0.5148,  0.5900, -0.0950,  0.0259,  1.5635, -0.3137, -0.6220,  0.0441,\n",
       "         -1.6741, -1.5202,  1.1708, -0.0928,  0.6796, -0.8270,  0.5435,  0.4681,\n",
       "         -2.1394, -0.2511, -0.5473,  0.9570],\n",
       "        [-0.3946, -0.1269,  0.6953,  2.2773, -0.3555,  1.7181, -1.7014, -0.2699,\n",
       "          2.4515, -0.8044,  0.0914, -0.2268,  0.2704, -1.1136, -2.6765, -0.1988,\n",
       "          1.7733,  0.1729, -0.5491, -1.5121],\n",
       "        [ 0.6188, -0.4705,  0.2686, -0.1335,  0.2923, -2.2499,  0.7664, -0.0121,\n",
       "          1.1574, -1.0570, -0.3084,  1.6010, -1.1174, -1.4205, -2.2181, -0.6761,\n",
       "         -0.5214, -0.1795,  0.0117, -1.1420]])"
      ]
     },
     "execution_count": 25,
     "metadata": {},
     "output_type": "execute_result"
    }
   ],
   "source": [
    "a"
   ]
  },
  {
   "cell_type": "code",
   "execution_count": 26,
   "metadata": {},
   "outputs": [
    {
     "data": {
      "text/plain": [
       "tensor([ 2.2742, -1.5254, -0.4795, -6.7901])"
      ]
     },
     "execution_count": 26,
     "metadata": {},
     "output_type": "execute_result"
    }
   ],
   "source": [
    "a.sum(1)"
   ]
  },
  {
   "cell_type": "code",
   "execution_count": null,
   "metadata": {},
   "outputs": [],
   "source": []
  }
 ],
 "metadata": {
  "kernelspec": {
   "display_name": "DL",
   "language": "python",
   "name": "python3"
  },
  "language_info": {
   "codemirror_mode": {
    "name": "ipython",
    "version": 3
   },
   "file_extension": ".py",
   "mimetype": "text/x-python",
   "name": "python",
   "nbconvert_exporter": "python",
   "pygments_lexer": "ipython3",
   "version": "3.8.10"
  },
  "orig_nbformat": 4
 },
 "nbformat": 4,
 "nbformat_minor": 2
}
